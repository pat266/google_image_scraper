{
 "cells": [
  {
   "cell_type": "markdown",
   "metadata": {
    "id": "yb58wozWV2G7"
   },
   "source": [
    "# Testing Google Image Scraping"
   ]
  },
  {
   "cell_type": "markdown",
   "metadata": {
    "id": "yb58wozWV2G7"
   },
   "source": [
    "## Setup"
   ]
  },
  {
   "cell_type": "code",
   "execution_count": 1,
   "metadata": {
    "colab": {
     "base_uri": "https://localhost:8080/"
    },
    "id": "33soosiNxUSX",
    "outputId": "94edfe9b-bd6a-4135-dbc7-e649ba31436a"
   },
   "outputs": [
    {
     "name": "stdout",
     "output_type": "stream",
     "text": [
      "Requirement already satisfied: nltk==3.5 in c:\\users\\nili266\\anaconda3\\lib\\site-packages (3.5)\n",
      "Requirement already satisfied: tqdm in c:\\users\\nili266\\anaconda3\\lib\\site-packages (from nltk==3.5) (4.50.2)\n",
      "Requirement already satisfied: regex in c:\\users\\nili266\\anaconda3\\lib\\site-packages (from nltk==3.5) (2020.10.15)\n",
      "Requirement already satisfied: joblib in c:\\users\\nili266\\anaconda3\\lib\\site-packages (from nltk==3.5) (0.17.0)\n",
      "Requirement already satisfied: click in c:\\users\\nili266\\anaconda3\\lib\\site-packages (from nltk==3.5) (7.1.2)\n",
      "Requirement already satisfied: bs4==0.0.1 in c:\\users\\nili266\\anaconda3\\lib\\site-packages (0.0.1)\n",
      "Requirement already satisfied: beautifulsoup4 in c:\\users\\nili266\\anaconda3\\lib\\site-packages (from bs4==0.0.1) (4.8.2)\n",
      "Requirement already satisfied: soupsieve>=1.2 in c:\\users\\nili266\\anaconda3\\lib\\site-packages (from beautifulsoup4->bs4==0.0.1) (2.0.1)\n",
      "Requirement already satisfied: spacy==2.3.7 in c:\\users\\nili266\\anaconda3\\lib\\site-packages (2.3.7)\n",
      "Requirement already satisfied: catalogue<1.1.0,>=0.0.7 in c:\\users\\nili266\\anaconda3\\lib\\site-packages (from spacy==2.3.7) (1.0.0)\n",
      "Requirement already satisfied: srsly<1.1.0,>=1.0.2 in c:\\users\\nili266\\appdata\\roaming\\python\\python38\\site-packages (from spacy==2.3.7) (1.0.5)\n",
      "Requirement already satisfied: setuptools in c:\\users\\nili266\\anaconda3\\lib\\site-packages (from spacy==2.3.7) (50.3.1.post20201107)\n",
      "Requirement already satisfied: thinc<7.5.0,>=7.4.1 in c:\\users\\nili266\\anaconda3\\lib\\site-packages (from spacy==2.3.7) (7.4.5)\n",
      "Requirement already satisfied: cymem<2.1.0,>=2.0.2 in c:\\users\\nili266\\anaconda3\\lib\\site-packages (from spacy==2.3.7) (2.0.5)\n",
      "Requirement already satisfied: plac<1.2.0,>=0.9.6 in c:\\users\\nili266\\anaconda3\\lib\\site-packages (from spacy==2.3.7) (0.9.6)\n",
      "Requirement already satisfied: blis<0.8.0,>=0.4.0 in c:\\users\\nili266\\anaconda3\\lib\\site-packages (from spacy==2.3.7) (0.4.1)\n",
      "Requirement already satisfied: tqdm<5.0.0,>=4.38.0 in c:\\users\\nili266\\anaconda3\\lib\\site-packages (from spacy==2.3.7) (4.50.2)\n",
      "Requirement already satisfied: murmurhash<1.1.0,>=0.28.0 in c:\\users\\nili266\\anaconda3\\lib\\site-packages (from spacy==2.3.7) (1.0.5)\n",
      "Requirement already satisfied: requests<3.0.0,>=2.13.0 in c:\\users\\nili266\\anaconda3\\lib\\site-packages (from spacy==2.3.7) (2.24.0)\n",
      "Requirement already satisfied: numpy>=1.15.0 in c:\\users\\nili266\\anaconda3\\lib\\site-packages (from spacy==2.3.7) (1.19.2)\n",
      "Requirement already satisfied: preshed<3.1.0,>=3.0.2 in c:\\users\\nili266\\anaconda3\\lib\\site-packages (from spacy==2.3.7) (3.0.5)\n",
      "Requirement already satisfied: wasabi<1.1.0,>=0.4.0 in c:\\users\\nili266\\anaconda3\\lib\\site-packages (from spacy==2.3.7) (0.8.2)\n",
      "Requirement already satisfied: idna<3,>=2.5 in c:\\users\\nili266\\anaconda3\\lib\\site-packages (from requests<3.0.0,>=2.13.0->spacy==2.3.7) (2.10)\n",
      "Requirement already satisfied: urllib3!=1.25.0,!=1.25.1,<1.26,>=1.21.1 in c:\\users\\nili266\\anaconda3\\lib\\site-packages (from requests<3.0.0,>=2.13.0->spacy==2.3.7) (1.25.11)\n",
      "Requirement already satisfied: certifi>=2017.4.17 in c:\\users\\nili266\\anaconda3\\lib\\site-packages (from requests<3.0.0,>=2.13.0->spacy==2.3.7) (2020.6.20)\n",
      "Requirement already satisfied: chardet<4,>=3.0.2 in c:\\users\\nili266\\anaconda3\\lib\\site-packages (from requests<3.0.0,>=2.13.0->spacy==2.3.7) (3.0.4)\n",
      "Requirement already satisfied: beautifulsoup4==4.8.2 in c:\\users\\nili266\\anaconda3\\lib\\site-packages (4.8.2)\n",
      "Requirement already satisfied: soupsieve>=1.2 in c:\\users\\nili266\\anaconda3\\lib\\site-packages (from beautifulsoup4==4.8.2) (2.0.1)\n",
      "Requirement already satisfied: selenium in c:\\users\\nili266\\anaconda3\\lib\\site-packages (4.1.0)\n",
      "Requirement already satisfied: trio-websocket~=0.9 in c:\\users\\nili266\\anaconda3\\lib\\site-packages (from selenium) (0.9.2)\n",
      "Requirement already satisfied: trio~=0.17 in c:\\users\\nili266\\anaconda3\\lib\\site-packages (from selenium) (0.19.0)\n",
      "Collecting urllib3[secure]~=1.26\n",
      "  Using cached urllib3-1.26.7-py2.py3-none-any.whl (138 kB)\n",
      "Requirement already satisfied: wsproto>=0.14 in c:\\users\\nili266\\anaconda3\\lib\\site-packages (from trio-websocket~=0.9->selenium) (1.0.0)\n",
      "Requirement already satisfied: async-generator>=1.10 in c:\\users\\nili266\\anaconda3\\lib\\site-packages (from trio-websocket~=0.9->selenium) (1.10)\n",
      "Requirement already satisfied: attrs>=19.2.0 in c:\\users\\nili266\\anaconda3\\lib\\site-packages (from trio~=0.17->selenium) (20.3.0)\n",
      "Requirement already satisfied: outcome in c:\\users\\nili266\\anaconda3\\lib\\site-packages (from trio~=0.17->selenium) (1.1.0)\n",
      "Requirement already satisfied: sniffio in c:\\users\\nili266\\anaconda3\\lib\\site-packages (from trio~=0.17->selenium) (1.2.0)\n",
      "Requirement already satisfied: sortedcontainers in c:\\users\\nili266\\anaconda3\\lib\\site-packages (from trio~=0.17->selenium) (2.2.2)\n",
      "Requirement already satisfied: cffi>=1.14; os_name == \"nt\" and implementation_name != \"pypy\" in c:\\users\\nili266\\anaconda3\\lib\\site-packages (from trio~=0.17->selenium) (1.14.3)\n",
      "Requirement already satisfied: idna in c:\\users\\nili266\\anaconda3\\lib\\site-packages (from trio~=0.17->selenium) (2.10)\n",
      "Requirement already satisfied: cryptography>=1.3.4; extra == \"secure\" in c:\\users\\nili266\\anaconda3\\lib\\site-packages (from urllib3[secure]~=1.26->selenium) (3.1.1)\n",
      "Requirement already satisfied: pyOpenSSL>=0.14; extra == \"secure\" in c:\\users\\nili266\\anaconda3\\lib\\site-packages (from urllib3[secure]~=1.26->selenium) (19.1.0)\n",
      "Requirement already satisfied: certifi; extra == \"secure\" in c:\\users\\nili266\\anaconda3\\lib\\site-packages (from urllib3[secure]~=1.26->selenium) (2020.6.20)\n",
      "Requirement already satisfied: h11<1,>=0.9.0 in c:\\users\\nili266\\anaconda3\\lib\\site-packages (from wsproto>=0.14->trio-websocket~=0.9->selenium) (0.12.0)\n",
      "Requirement already satisfied: pycparser in c:\\users\\nili266\\anaconda3\\lib\\site-packages (from cffi>=1.14; os_name == \"nt\" and implementation_name != \"pypy\"->trio~=0.17->selenium) (2.20)\n",
      "Requirement already satisfied: six>=1.4.1 in c:\\users\\nili266\\anaconda3\\lib\\site-packages (from cryptography>=1.3.4; extra == \"secure\"->urllib3[secure]~=1.26->selenium) (1.15.0)\n",
      "Installing collected packages: urllib3\n",
      "  Attempting uninstall: urllib3\n",
      "    Found existing installation: urllib3 1.25.11\n",
      "    Uninstalling urllib3-1.25.11:\n",
      "      Successfully uninstalled urllib3-1.25.11\n",
      "Successfully installed urllib3-1.26.7\n"
     ]
    },
    {
     "name": "stderr",
     "output_type": "stream",
     "text": [
      "ERROR: After October 2020 you may experience errors when installing or updating packages. This is because pip will change the way that it resolves dependency conflicts.\n",
      "\n",
      "We recommend you use --use-feature=2020-resolver to test your packages with the new resolver before it becomes the default.\n",
      "\n",
      "requests 2.24.0 requires urllib3!=1.25.0,!=1.25.1,<1.26,>=1.21.1, but you'll have urllib3 1.26.7 which is incompatible.\n"
     ]
    },
    {
     "name": "stdout",
     "output_type": "stream",
     "text": [
      "Requirement already satisfied: webdriver_manager in c:\\users\\nili266\\anaconda3\\lib\\site-packages (3.5.2)\n",
      "Requirement already satisfied: requests in c:\\users\\nili266\\anaconda3\\lib\\site-packages (from webdriver_manager) (2.24.0)\n",
      "Requirement already satisfied: crayons in c:\\users\\nili266\\anaconda3\\lib\\site-packages (from webdriver_manager) (0.4.0)\n",
      "Requirement already satisfied: configparser in c:\\users\\nili266\\anaconda3\\lib\\site-packages (from webdriver_manager) (5.2.0)\n",
      "Requirement already satisfied: certifi>=2017.4.17 in c:\\users\\nili266\\anaconda3\\lib\\site-packages (from requests->webdriver_manager) (2020.6.20)\n",
      "Requirement already satisfied: chardet<4,>=3.0.2 in c:\\users\\nili266\\anaconda3\\lib\\site-packages (from requests->webdriver_manager) (3.0.4)\n",
      "Requirement already satisfied: idna<3,>=2.5 in c:\\users\\nili266\\anaconda3\\lib\\site-packages (from requests->webdriver_manager) (2.10)\n",
      "Collecting urllib3!=1.25.0,!=1.25.1,<1.26,>=1.21.1\n",
      "  Using cached urllib3-1.25.11-py2.py3-none-any.whl (127 kB)\n",
      "Requirement already satisfied: colorama in c:\\users\\nili266\\anaconda3\\lib\\site-packages (from crayons->webdriver_manager) (0.4.4)\n",
      "Installing collected packages: urllib3\n",
      "  Attempting uninstall: urllib3\n",
      "    Found existing installation: urllib3 1.26.7\n",
      "    Uninstalling urllib3-1.26.7:\n",
      "      Successfully uninstalled urllib3-1.26.7\n",
      "Successfully installed urllib3-1.25.11\n"
     ]
    },
    {
     "name": "stderr",
     "output_type": "stream",
     "text": [
      "ERROR: After October 2020 you may experience errors when installing or updating packages. This is because pip will change the way that it resolves dependency conflicts.\n",
      "\n",
      "We recommend you use --use-feature=2020-resolver to test your packages with the new resolver before it becomes the default.\n",
      "\n",
      "selenium 4.1.0 requires urllib3[secure]~=1.26, but you'll have urllib3 1.25.11 which is incompatible.\n"
     ]
    },
    {
     "name": "stdout",
     "output_type": "stream",
     "text": [
      "Requirement already satisfied: en_core_web_md==2.3.1 from https://github.com/explosion/spacy-models/releases/download/en_core_web_md-2.3.1/en_core_web_md-2.3.1.tar.gz#egg=en_core_web_md==2.3.1 in c:\\users\\nili266\\anaconda3\\lib\\site-packages (2.3.1)\n",
      "Requirement already satisfied: spacy<2.4.0,>=2.3.0 in c:\\users\\nili266\\anaconda3\\lib\\site-packages (from en_core_web_md==2.3.1) (2.3.7)\n",
      "Requirement already satisfied: catalogue<1.1.0,>=0.0.7 in c:\\users\\nili266\\anaconda3\\lib\\site-packages (from spacy<2.4.0,>=2.3.0->en_core_web_md==2.3.1) (1.0.0)\n",
      "Requirement already satisfied: murmurhash<1.1.0,>=0.28.0 in c:\\users\\nili266\\anaconda3\\lib\\site-packages (from spacy<2.4.0,>=2.3.0->en_core_web_md==2.3.1) (1.0.5)\n",
      "Requirement already satisfied: plac<1.2.0,>=0.9.6 in c:\\users\\nili266\\anaconda3\\lib\\site-packages (from spacy<2.4.0,>=2.3.0->en_core_web_md==2.3.1) (0.9.6)\n",
      "Requirement already satisfied: preshed<3.1.0,>=3.0.2 in c:\\users\\nili266\\anaconda3\\lib\\site-packages (from spacy<2.4.0,>=2.3.0->en_core_web_md==2.3.1) (3.0.5)\n",
      "Requirement already satisfied: thinc<7.5.0,>=7.4.1 in c:\\users\\nili266\\anaconda3\\lib\\site-packages (from spacy<2.4.0,>=2.3.0->en_core_web_md==2.3.1) (7.4.5)\n",
      "Requirement already satisfied: setuptools in c:\\users\\nili266\\anaconda3\\lib\\site-packages (from spacy<2.4.0,>=2.3.0->en_core_web_md==2.3.1) (50.3.1.post20201107)\n",
      "Requirement already satisfied: srsly<1.1.0,>=1.0.2 in c:\\users\\nili266\\appdata\\roaming\\python\\python38\\site-packages (from spacy<2.4.0,>=2.3.0->en_core_web_md==2.3.1) (1.0.5)\n",
      "Requirement already satisfied: tqdm<5.0.0,>=4.38.0 in c:\\users\\nili266\\anaconda3\\lib\\site-packages (from spacy<2.4.0,>=2.3.0->en_core_web_md==2.3.1) (4.50.2)\n",
      "Requirement already satisfied: cymem<2.1.0,>=2.0.2 in c:\\users\\nili266\\anaconda3\\lib\\site-packages (from spacy<2.4.0,>=2.3.0->en_core_web_md==2.3.1) (2.0.5)\n",
      "Requirement already satisfied: numpy>=1.15.0 in c:\\users\\nili266\\anaconda3\\lib\\site-packages (from spacy<2.4.0,>=2.3.0->en_core_web_md==2.3.1) (1.19.2)\n",
      "Requirement already satisfied: requests<3.0.0,>=2.13.0 in c:\\users\\nili266\\anaconda3\\lib\\site-packages (from spacy<2.4.0,>=2.3.0->en_core_web_md==2.3.1) (2.24.0)\n",
      "Requirement already satisfied: blis<0.8.0,>=0.4.0 in c:\\users\\nili266\\anaconda3\\lib\\site-packages (from spacy<2.4.0,>=2.3.0->en_core_web_md==2.3.1) (0.4.1)\n",
      "Requirement already satisfied: wasabi<1.1.0,>=0.4.0 in c:\\users\\nili266\\anaconda3\\lib\\site-packages (from spacy<2.4.0,>=2.3.0->en_core_web_md==2.3.1) (0.8.2)\n",
      "Requirement already satisfied: urllib3!=1.25.0,!=1.25.1,<1.26,>=1.21.1 in c:\\users\\nili266\\anaconda3\\lib\\site-packages (from requests<3.0.0,>=2.13.0->spacy<2.4.0,>=2.3.0->en_core_web_md==2.3.1) (1.25.11)\n",
      "Requirement already satisfied: chardet<4,>=3.0.2 in c:\\users\\nili266\\anaconda3\\lib\\site-packages (from requests<3.0.0,>=2.13.0->spacy<2.4.0,>=2.3.0->en_core_web_md==2.3.1) (3.0.4)\n",
      "Requirement already satisfied: certifi>=2017.4.17 in c:\\users\\nili266\\anaconda3\\lib\\site-packages (from requests<3.0.0,>=2.13.0->spacy<2.4.0,>=2.3.0->en_core_web_md==2.3.1) (2020.6.20)\n",
      "Requirement already satisfied: idna<3,>=2.5 in c:\\users\\nili266\\anaconda3\\lib\\site-packages (from requests<3.0.0,>=2.13.0->spacy<2.4.0,>=2.3.0->en_core_web_md==2.3.1) (2.10)\n",
      "[+] Download and installation successful\n",
      "You can now load the model via spacy.load('en_core_web_md')\n"
     ]
    },
    {
     "name": "stderr",
     "output_type": "stream",
     "text": [
      "C:\\Users\\nili266\\anaconda3\\lib\\runpy.py:127: RuntimeWarning: 'nltk.downloader' found in sys.modules after import of package 'nltk', but prior to execution of 'nltk.downloader'; this may result in unpredictable behaviour\n",
      "  warn(RuntimeWarning(msg))\n",
      "[nltk_data] Downloading package stopwords to\n",
      "[nltk_data]     C:\\Users\\nili266\\AppData\\Roaming\\nltk_data...\n",
      "[nltk_data]   Package stopwords is already up-to-date!\n"
     ]
    }
   ],
   "source": [
    "!pip install nltk==3.5\n",
    "!pip install bs4==0.0.1\n",
    "!pip install spacy==2.3.7\n",
    "!pip install beautifulsoup4==4.8.2\n",
    "!pip install selenium\n",
    "!pip install webdriver_manager\n",
    "## Setup\n",
    "# installation for the DataCleaner class\n",
    "!python -m spacy download en_core_web_md\n",
    "!python -m nltk.downloader stopwords"
   ]
  },
  {
   "cell_type": "markdown",
   "metadata": {
    "id": "yb58wozWV2G7"
   },
   "source": [
    "## Setup"
   ]
  },
  {
   "cell_type": "code",
   "execution_count": 2,
   "metadata": {
    "colab": {
     "base_uri": "https://localhost:8080/"
    },
    "id": "OITepNlKZPHh",
    "outputId": "542fa14c-4f21-40c2-965a-5346706df58c"
   },
   "outputs": [
    {
     "name": "stderr",
     "output_type": "stream",
     "text": [
      "[nltk_data] Downloading package punkt to\n",
      "[nltk_data]     C:\\Users\\nili266\\AppData\\Roaming\\nltk_data...\n",
      "[nltk_data]   Package punkt is already up-to-date!\n"
     ]
    }
   ],
   "source": [
    "import bs4 as bs\n",
    "import requests\n",
    "from selenium import webdriver\n",
    "from selenium.webdriver.common.by import By\n",
    "from selenium.webdriver.chrome.service import Service\n",
    "from selenium.webdriver.support.ui import WebDriverWait\n",
    "from selenium.webdriver.support import expected_conditions as EC\n",
    "from data_cleaning import DataCleaner # from data_cleaning.py\n",
    "import os\n",
    "import time\n",
    "\n",
    "# options for the driver\n",
    "options = webdriver.ChromeOptions()\n",
    "options.add_argument('--headless')\n",
    "options.add_argument('--no-sandbox')\n",
    "options.add_argument('--disable-dev-shm-usage')\n",
    "\n",
    "# service for Chrome and main driver\n",
    "service = Service(\"./chrome_driver/windows/chromedriver.exe\")\n",
    "driver = webdriver.Chrome(service=service,options=options)\n",
    "\n",
    "# DataCleaner to extract important words from a sentence\n",
    "data_cleaner = DataCleaner()\n",
    "\n",
    "\n",
    "def get_image_list(query, num_image=10, max_load_time=3):\n",
    "    if num_image >= 25:\n",
    "        raise ValueError(\"\"\"Only get images from the first result page to avoid Google's detection and ban.\"\"\")\n",
    "    start_time = time.time()\n",
    "    search_terms = data_cleaner.preprocess_split_corpus(query)\n",
    "    search_link = f\"https://www.google.com/search?q={'+'.join(search_terms)}&source=lnms&tbm=isch\"\n",
    "    print(\"Search link: \", search_link)\n",
    "    image_list = [] # return list\n",
    "\n",
    "    # Search in Google Image\n",
    "    driver.get(search_link)\n",
    "        \n",
    "    for i in range(1, num_image + 1):\n",
    "     \n",
    "        xPath = \"\"\"//*[@id=\"islrg\"]/div[1]/div[%s]\"\"\"%(i)\n",
    "\n",
    "        previewImageXPath = \"\"\"//*[@id=\"islrg\"]/div[1]/div[%s]/a[1]/div[1]/img\"\"\"%(i)\n",
    "        previewImageURL = driver.find_element(By.XPATH, previewImageXPath).get_attribute(\"src\")\n",
    "\n",
    "        # Click on the preview image\n",
    "        driver.find_element(By.XPATH, xPath).click()\n",
    "        \n",
    "        # full resolution XPATH\n",
    "        fullResImageXPath = \"\"\"//*[@id=\"Sva75c\"]/div/div/div[3]/div[2]/c-wiz/div/div[1]/div[1]/div[2]/div[1]/a/img\"\"\"\n",
    "\n",
    "        timeStarted = time.time()\n",
    "        # wait for the driver to finish loading to get the image\n",
    "        # Some images have larger size => longer waiting time. if we dont wait, then it will only load the minimal version of the image.\n",
    "        while True:\n",
    "            fullResImageURL= driver.find_element(By.XPATH, fullResImageXPath).get_attribute('src')\n",
    "\n",
    "            # if the full resolution image link is loaded\n",
    "            if fullResImageURL != previewImageURL:\n",
    "                break\n",
    "\n",
    "            else:\n",
    "                # making a timeout if the full res image can't be loaded\n",
    "                if time.time() - timeStarted > max_load_time:\n",
    "                    print(\"Fail to load image %s under %s seconds. Grabbing thumbnail image.\"%(i, str(max_load_time)))\n",
    "                    break\n",
    "                # pause for 0.3 seconds so that selenium does not constantly ping Google\n",
    "                time.sleep(0.3)\n",
    "                \n",
    "        # insert the link to the list\n",
    "        image_list.append(fullResImageURL)\n",
    "    total_time = time.time() - start_time\n",
    "    print(\"Total time to run: \", str(round(total_time, 2)), \"s\")\n",
    "    return image_list"
   ]
  },
  {
   "cell_type": "markdown",
   "metadata": {
    "id": "yb58wozWV2G7"
   },
   "source": [
    "## Test Result"
   ]
  },
  {
   "cell_type": "code",
   "execution_count": 3,
   "metadata": {
    "colab": {
     "base_uri": "https://localhost:8080/"
    },
    "id": "g0oXmvtJu56f",
    "outputId": "53c1e910-f96c-4592-f39f-fa560731bc22"
   },
   "outputs": [
    {
     "name": "stdout",
     "output_type": "stream",
     "text": [
      "Search link:  https://www.google.com/search?q=first+difference+filter&source=lnms&tbm=isch\n",
      "Fail to load image 9 under 3 seconds. Grabbing thumbnail image.\n",
      "Total time to run:  11.97 s\n"
     ]
    },
    {
     "data": {
      "text/plain": [
       "['http://dspfirst.gatech.edu/chapters/05fir/demos/tinvprop/graphics/impResp_1stDiff.png',\n",
       " 'https://d2vlcm61l7u1fs.cloudfront.net/media%2F95a%2F95aa15be-4ac1-454c-8140-c4d86ca37f2e%2FphpvQmXt4.png',\n",
       " 'https://www.researchgate.net/profile/Zuzanna-Wosko/publication/292980526/figure/fig3/AS:669547094876179@1536643875663/Gain-functions-of-first-difference-filter-Hodrick-Prescott-H-P-l-14-400.png',\n",
       " 'http://dspfirst.gatech.edu/chapters/06firfreq/demos/blockd/graphics/w_casc.gif',\n",
       " 'https://i.stack.imgur.com/c6r9h.jpg',\n",
       " 'https://media.cheggcdn.com/study/24b/24b569ea-008e-4f33-8eaf-d9d90ea1f42e/image.png',\n",
       " 'https://noexit.tv/TCDAA/Y2/lp4/S0004E/chapters/05fir/demos/graphics/freq_res.gif',\n",
       " 'https://media.cheggcdn.com/media/caa/caa91e78-f5c5-44aa-b28a-09e88fd96811/php3bpGVt',\n",
       " 'data:image/png;base64,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',\n",
       " 'https://www.researchgate.net/profile/Zuzanna-Wosko/publication/292980526/figure/fig3/AS:669547094876179@1536643875663/Gain-functions-of-first-difference-filter-Hodrick-Prescott-H-P-l-14-400_Q640.jpg']"
      ]
     },
     "execution_count": 3,
     "metadata": {},
     "output_type": "execute_result"
    }
   ],
   "source": [
    "testList = get_image_list(\"What is the first-difference filter?\", num_image=10)\n",
    "testList"
   ]
  },
  {
   "cell_type": "code",
   "execution_count": null,
   "metadata": {},
   "outputs": [],
   "source": []
  }
 ],
 "metadata": {
  "colab": {
   "collapsed_sections": [],
   "name": "Testing Google Image Scraping",
   "provenance": [],
   "toc_visible": true
  },
  "kernelspec": {
   "display_name": "Python 3",
   "language": "python",
   "name": "python3"
  },
  "language_info": {
   "codemirror_mode": {
    "name": "ipython",
    "version": 3
   },
   "file_extension": ".py",
   "mimetype": "text/x-python",
   "name": "python",
   "nbconvert_exporter": "python",
   "pygments_lexer": "ipython3",
   "version": "3.8.5"
  }
 },
 "nbformat": 4,
 "nbformat_minor": 1
}
